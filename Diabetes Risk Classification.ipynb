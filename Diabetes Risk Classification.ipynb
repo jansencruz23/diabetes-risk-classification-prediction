{
 "cells": [
  {
   "cell_type": "markdown",
   "id": "583962bb-8660-4c25-a584-b5a1b06ff79b",
   "metadata": {},
   "source": [
    "# 1. Data Cleaning and Preprocessing"
   ]
  },
  {
   "cell_type": "code",
   "execution_count": 402,
   "id": "89f5edaa-9b11-4c8c-a29a-68f14fbbe02d",
   "metadata": {},
   "outputs": [],
   "source": [
    "import pandas as pd"
   ]
  },
  {
   "cell_type": "markdown",
   "id": "7c4eae53-953b-4149-96c3-151b77b8e436",
   "metadata": {},
   "source": [
    "### 1.1 Load Dataset"
   ]
  },
  {
   "cell_type": "code",
   "execution_count": 441,
   "id": "32d0805b-fdcd-44a6-8a76-1aeb21c7840f",
   "metadata": {},
   "outputs": [],
   "source": [
    "data = pd.read_csv('datasets/diabetesrisk (unclean dataset).csv')"
   ]
  },
  {
   "cell_type": "code",
   "execution_count": 443,
   "id": "3da2852a-4cfd-4c10-88a5-4c8c9547f9f7",
   "metadata": {},
   "outputs": [
    {
     "data": {
      "text/html": [
       "<div>\n",
       "<style scoped>\n",
       "    .dataframe tbody tr th:only-of-type {\n",
       "        vertical-align: middle;\n",
       "    }\n",
       "\n",
       "    .dataframe tbody tr th {\n",
       "        vertical-align: top;\n",
       "    }\n",
       "\n",
       "    .dataframe thead th {\n",
       "        text-align: right;\n",
       "    }\n",
       "</style>\n",
       "<table border=\"1\" class=\"dataframe\">\n",
       "  <thead>\n",
       "    <tr style=\"text-align: right;\">\n",
       "      <th></th>\n",
       "      <th>Id</th>\n",
       "      <th>HouseholdMemberId</th>\n",
       "      <th>BmiRiskPoints</th>\n",
       "      <th>IsPhysicallyActive</th>\n",
       "      <th>EatsVegetablesEveryDay</th>\n",
       "      <th>TakingHighBloodPressureMedication</th>\n",
       "      <th>HasHighBloodGlucose</th>\n",
       "      <th>FamilyWithDiabetesRiskPoints</th>\n",
       "      <th>Status</th>\n",
       "      <th>DateCreated</th>\n",
       "      <th>LastModified</th>\n",
       "      <th>ModifiedById</th>\n",
       "      <th>WaistCircumferenceMenRiskPoints</th>\n",
       "      <th>WaistCircumferenceWomenRiskPoints</th>\n",
       "      <th>AgeRiskPoints</th>\n",
       "      <th>Birthday</th>\n",
       "    </tr>\n",
       "  </thead>\n",
       "  <tbody>\n",
       "    <tr>\n",
       "      <th>0</th>\n",
       "      <td>1</td>\n",
       "      <td>54</td>\n",
       "      <td>0</td>\n",
       "      <td>0</td>\n",
       "      <td>1</td>\n",
       "      <td>1</td>\n",
       "      <td>1</td>\n",
       "      <td>3</td>\n",
       "      <td>1</td>\n",
       "      <td>12/24/2024</td>\n",
       "      <td>12/30/2024</td>\n",
       "      <td>67e552c1-19ea-4a81-bc91-009d1035307d</td>\n",
       "      <td>0.0</td>\n",
       "      <td>0.0</td>\n",
       "      <td>2</td>\n",
       "      <td>01/01/1974</td>\n",
       "    </tr>\n",
       "    <tr>\n",
       "      <th>1</th>\n",
       "      <td>2</td>\n",
       "      <td>55</td>\n",
       "      <td>3</td>\n",
       "      <td>0</td>\n",
       "      <td>0</td>\n",
       "      <td>1</td>\n",
       "      <td>1</td>\n",
       "      <td>5</td>\n",
       "      <td>1</td>\n",
       "      <td>12/24/2024</td>\n",
       "      <td>12/29/2024</td>\n",
       "      <td>67e552c1-19ea-4a81-bc91-009d1035307d</td>\n",
       "      <td>0.0</td>\n",
       "      <td>4.0</td>\n",
       "      <td>0</td>\n",
       "      <td>01/31/1989</td>\n",
       "    </tr>\n",
       "    <tr>\n",
       "      <th>2</th>\n",
       "      <td>3</td>\n",
       "      <td>54</td>\n",
       "      <td>1</td>\n",
       "      <td>0</td>\n",
       "      <td>1</td>\n",
       "      <td>0</td>\n",
       "      <td>0</td>\n",
       "      <td>3</td>\n",
       "      <td>1</td>\n",
       "      <td>12/26/2024</td>\n",
       "      <td>01/01/2025</td>\n",
       "      <td>67e552c1-19ea-4a81-bc91-009d1035307d</td>\n",
       "      <td>3.0</td>\n",
       "      <td>0.0</td>\n",
       "      <td>2</td>\n",
       "      <td>01/01/1974</td>\n",
       "    </tr>\n",
       "    <tr>\n",
       "      <th>3</th>\n",
       "      <td>4</td>\n",
       "      <td>54</td>\n",
       "      <td>1</td>\n",
       "      <td>0</td>\n",
       "      <td>1</td>\n",
       "      <td>0</td>\n",
       "      <td>0</td>\n",
       "      <td>3</td>\n",
       "      <td>1</td>\n",
       "      <td>12/26/2024</td>\n",
       "      <td>01/18/2025</td>\n",
       "      <td>67e552c1-19ea-4a81-bc91-009d1035307d</td>\n",
       "      <td>4.0</td>\n",
       "      <td>0.0</td>\n",
       "      <td>2</td>\n",
       "      <td>01/01/1974</td>\n",
       "    </tr>\n",
       "    <tr>\n",
       "      <th>4</th>\n",
       "      <td>5</td>\n",
       "      <td>54</td>\n",
       "      <td>1</td>\n",
       "      <td>0</td>\n",
       "      <td>0</td>\n",
       "      <td>1</td>\n",
       "      <td>1</td>\n",
       "      <td>3</td>\n",
       "      <td>1</td>\n",
       "      <td>12/26/2024</td>\n",
       "      <td>12/26/2024</td>\n",
       "      <td>67e552c1-19ea-4a81-bc91-009d1035307d</td>\n",
       "      <td>3.0</td>\n",
       "      <td>0.0</td>\n",
       "      <td>2</td>\n",
       "      <td>01/01/1974</td>\n",
       "    </tr>\n",
       "  </tbody>\n",
       "</table>\n",
       "</div>"
      ],
      "text/plain": [
       "   Id  HouseholdMemberId  BmiRiskPoints  IsPhysicallyActive  \\\n",
       "0   1                 54              0                   0   \n",
       "1   2                 55              3                   0   \n",
       "2   3                 54              1                   0   \n",
       "3   4                 54              1                   0   \n",
       "4   5                 54              1                   0   \n",
       "\n",
       "   EatsVegetablesEveryDay  TakingHighBloodPressureMedication  \\\n",
       "0                       1                                  1   \n",
       "1                       0                                  1   \n",
       "2                       1                                  0   \n",
       "3                       1                                  0   \n",
       "4                       0                                  1   \n",
       "\n",
       "   HasHighBloodGlucose  FamilyWithDiabetesRiskPoints  Status DateCreated  \\\n",
       "0                    1                             3       1  12/24/2024   \n",
       "1                    1                             5       1  12/24/2024   \n",
       "2                    0                             3       1  12/26/2024   \n",
       "3                    0                             3       1  12/26/2024   \n",
       "4                    1                             3       1  12/26/2024   \n",
       "\n",
       "  LastModified                          ModifiedById  \\\n",
       "0   12/30/2024  67e552c1-19ea-4a81-bc91-009d1035307d   \n",
       "1   12/29/2024  67e552c1-19ea-4a81-bc91-009d1035307d   \n",
       "2   01/01/2025  67e552c1-19ea-4a81-bc91-009d1035307d   \n",
       "3   01/18/2025  67e552c1-19ea-4a81-bc91-009d1035307d   \n",
       "4   12/26/2024  67e552c1-19ea-4a81-bc91-009d1035307d   \n",
       "\n",
       "   WaistCircumferenceMenRiskPoints  WaistCircumferenceWomenRiskPoints  \\\n",
       "0                              0.0                                0.0   \n",
       "1                              0.0                                4.0   \n",
       "2                              3.0                                0.0   \n",
       "3                              4.0                                0.0   \n",
       "4                              3.0                                0.0   \n",
       "\n",
       "   AgeRiskPoints    Birthday  \n",
       "0              2  01/01/1974  \n",
       "1              0  01/31/1989  \n",
       "2              2  01/01/1974  \n",
       "3              2  01/01/1974  \n",
       "4              2  01/01/1974  "
      ]
     },
     "execution_count": 443,
     "metadata": {},
     "output_type": "execute_result"
    }
   ],
   "source": [
    "data.head()"
   ]
  },
  {
   "cell_type": "markdown",
   "id": "851ca95b-bb72-4a06-b736-926f10942e03",
   "metadata": {},
   "source": [
    "### 1.2 Preprocess and Clean Data"
   ]
  },
  {
   "cell_type": "code",
   "execution_count": 446,
   "id": "a6ac48a7-fcfa-4152-a426-cce4d413aaf8",
   "metadata": {},
   "outputs": [],
   "source": [
    "from datetime import date, timedelta, datetime\n",
    "\n",
    "def get_age(birth_date):\n",
    "    birth_datetime = datetime.strptime(birth_date, \"%m/%d/%Y\")\n",
    "    delta = date.today() - birth_datetime.date()\n",
    "    return delta.days // 365.2425"
   ]
  },
  {
   "cell_type": "code",
   "execution_count": 448,
   "id": "1bdae88a-c45d-4313-b8b8-7422b2a0264c",
   "metadata": {},
   "outputs": [],
   "source": [
    "data['Age'] = data['Birthday'].map(get_age)"
   ]
  },
  {
   "cell_type": "code",
   "execution_count": 450,
   "id": "345eb153-a2e0-4e35-87b3-2965b1a8ed68",
   "metadata": {},
   "outputs": [],
   "source": [
    "def get_age_points(age):\n",
    "    if age < 45:\n",
    "        return 0\n",
    "    elif age >= 45 and age < 54:\n",
    "        return 2\n",
    "    elif age >= 55 and age <64:\n",
    "        return 3\n",
    "    else:\n",
    "        return 4"
   ]
  },
  {
   "cell_type": "markdown",
   "id": "abd0d48b-d593-48d9-bcdb-e1118555b1ed",
   "metadata": {},
   "source": [
    "#### 1.2.1 Map corresponding points to binary data"
   ]
  },
  {
   "cell_type": "code",
   "execution_count": 453,
   "id": "0f850a5e-b90e-48cb-a57e-083381310e43",
   "metadata": {},
   "outputs": [],
   "source": [
    "is_active = {0:0, 1:2}\n",
    "taking_blood_pressure_med = {0:0, 1:2}\n",
    "has_high_blood_glucose = {0:0, 1:5}\n",
    "\n",
    "data['IsPhysicallyActive'] = data['IsPhysicallyActive'].map(is_active)\n",
    "data['TakingHighBloodPressureMedication'] = data['TakingHighBloodPressureMedication'].map(taking_blood_pressure_med)\n",
    "data['HasHighBloodGlucose'] = data['HasHighBloodGlucose'].map(has_high_blood_glucose)\n",
    "data['AgeRiskPoints'] = data['Age'].map(get_age_points)"
   ]
  },
  {
   "cell_type": "markdown",
   "id": "80632995-9167-4183-a71f-8c4674ff7b26",
   "metadata": {},
   "source": [
    "#### 1.2.2 Drop unnecessary columns"
   ]
  },
  {
   "cell_type": "code",
   "execution_count": 456,
   "id": "1f92f954-92f5-4bca-94da-ca496ed2f22b",
   "metadata": {},
   "outputs": [],
   "source": [
    "data = data.drop(columns=[\n",
    "    'Id', \n",
    "    'HouseholdMemberId', \n",
    "    'Status', \n",
    "    'DateCreated',\n",
    "    'LastModified',\n",
    "    'ModifiedById',\n",
    "    'Birthday',\n",
    "    'Age'])"
   ]
  },
  {
   "cell_type": "markdown",
   "id": "80044cc5-e14d-497a-9d2a-454fbaf50ffc",
   "metadata": {},
   "source": [
    "#### 1.2.3 Check for null values and replace with 0 (0 still has meaningful value)"
   ]
  },
  {
   "cell_type": "code",
   "execution_count": 459,
   "id": "59fbac1f-e011-4d6f-996e-88bc10bee08f",
   "metadata": {},
   "outputs": [
    {
     "data": {
      "text/plain": [
       "BmiRiskPoints                          0\n",
       "IsPhysicallyActive                     0\n",
       "EatsVegetablesEveryDay                 0\n",
       "TakingHighBloodPressureMedication      0\n",
       "HasHighBloodGlucose                    0\n",
       "FamilyWithDiabetesRiskPoints           0\n",
       "WaistCircumferenceMenRiskPoints      212\n",
       "WaistCircumferenceWomenRiskPoints    148\n",
       "AgeRiskPoints                          0\n",
       "dtype: int64"
      ]
     },
     "execution_count": 459,
     "metadata": {},
     "output_type": "execute_result"
    }
   ],
   "source": [
    "data.isnull().sum()"
   ]
  },
  {
   "cell_type": "code",
   "execution_count": 461,
   "id": "03e4fd0b-e8cd-4444-bef5-6d40ba75fce3",
   "metadata": {},
   "outputs": [],
   "source": [
    "data['WaistCircumferenceMenRiskPoints'] = data['WaistCircumferenceMenRiskPoints'].fillna(0)\n",
    "data['WaistCircumferenceWomenRiskPoints'] = data['WaistCircumferenceWomenRiskPoints'].fillna(0)"
   ]
  },
  {
   "cell_type": "code",
   "execution_count": 463,
   "id": "e0473443-574a-453f-8748-b99ff261b775",
   "metadata": {},
   "outputs": [
    {
     "data": {
      "text/plain": [
       "BmiRiskPoints                        0\n",
       "IsPhysicallyActive                   0\n",
       "EatsVegetablesEveryDay               0\n",
       "TakingHighBloodPressureMedication    0\n",
       "HasHighBloodGlucose                  0\n",
       "FamilyWithDiabetesRiskPoints         0\n",
       "WaistCircumferenceMenRiskPoints      0\n",
       "WaistCircumferenceWomenRiskPoints    0\n",
       "AgeRiskPoints                        0\n",
       "dtype: int64"
      ]
     },
     "execution_count": 463,
     "metadata": {},
     "output_type": "execute_result"
    }
   ],
   "source": [
    "data.isnull().sum()"
   ]
  },
  {
   "cell_type": "markdown",
   "id": "af8f8631-dfb2-430b-86b2-d4c9fb860eac",
   "metadata": {},
   "source": [
    "### 1.3 Add Necessary Column\n",
    "Calculation of risk score and risk category"
   ]
  },
  {
   "cell_type": "code",
   "execution_count": 466,
   "id": "9f9aaf8f-c363-4bd2-a99e-91adca74d192",
   "metadata": {},
   "outputs": [],
   "source": [
    "def get_risk_score(row, columns):\n",
    "    return row[columns].sum()"
   ]
  },
  {
   "cell_type": "code",
   "execution_count": 468,
   "id": "49ab6970-00b4-480b-ba41-fff11e715aeb",
   "metadata": {},
   "outputs": [],
   "source": [
    "def categorize_risk(score):\n",
    "    if score < 7:\n",
    "        return \"low\"\n",
    "    elif 7 <= score <= 11:\n",
    "        return \"slightly elevated\"\n",
    "    elif 12 <= score <= 14:\n",
    "        return \"moderate\"\n",
    "    elif 15 <= score <= 20:\n",
    "        return \"high\"\n",
    "    else: \n",
    "        return \"very high\""
   ]
  },
  {
   "cell_type": "code",
   "execution_count": 470,
   "id": "d7712cc4-10a5-44cd-94bd-e18c31fb6387",
   "metadata": {},
   "outputs": [],
   "source": [
    "risk_score = data.apply(lambda row: get_risk_score(row, data.columns), axis=1)\n",
    "data['RiskCategory'] = risk_score.map(categorize_risk)"
   ]
  },
  {
   "cell_type": "markdown",
   "id": "192c4785-78df-40d6-9db0-d5cd1d4f5b30",
   "metadata": {},
   "source": [
    "### Preview cleaned data"
   ]
  },
  {
   "cell_type": "code",
   "execution_count": 473,
   "id": "d849ce70-3609-4cfa-8176-14f3eccefeb1",
   "metadata": {},
   "outputs": [
    {
     "data": {
      "text/html": [
       "<div>\n",
       "<style scoped>\n",
       "    .dataframe tbody tr th:only-of-type {\n",
       "        vertical-align: middle;\n",
       "    }\n",
       "\n",
       "    .dataframe tbody tr th {\n",
       "        vertical-align: top;\n",
       "    }\n",
       "\n",
       "    .dataframe thead th {\n",
       "        text-align: right;\n",
       "    }\n",
       "</style>\n",
       "<table border=\"1\" class=\"dataframe\">\n",
       "  <thead>\n",
       "    <tr style=\"text-align: right;\">\n",
       "      <th></th>\n",
       "      <th>BmiRiskPoints</th>\n",
       "      <th>IsPhysicallyActive</th>\n",
       "      <th>EatsVegetablesEveryDay</th>\n",
       "      <th>TakingHighBloodPressureMedication</th>\n",
       "      <th>HasHighBloodGlucose</th>\n",
       "      <th>FamilyWithDiabetesRiskPoints</th>\n",
       "      <th>WaistCircumferenceMenRiskPoints</th>\n",
       "      <th>WaistCircumferenceWomenRiskPoints</th>\n",
       "      <th>AgeRiskPoints</th>\n",
       "      <th>RiskCategory</th>\n",
       "    </tr>\n",
       "  </thead>\n",
       "  <tbody>\n",
       "    <tr>\n",
       "      <th>0</th>\n",
       "      <td>0</td>\n",
       "      <td>0</td>\n",
       "      <td>1</td>\n",
       "      <td>2</td>\n",
       "      <td>5</td>\n",
       "      <td>3</td>\n",
       "      <td>0.0</td>\n",
       "      <td>0.0</td>\n",
       "      <td>2</td>\n",
       "      <td>moderate</td>\n",
       "    </tr>\n",
       "    <tr>\n",
       "      <th>1</th>\n",
       "      <td>3</td>\n",
       "      <td>0</td>\n",
       "      <td>0</td>\n",
       "      <td>2</td>\n",
       "      <td>5</td>\n",
       "      <td>5</td>\n",
       "      <td>0.0</td>\n",
       "      <td>4.0</td>\n",
       "      <td>0</td>\n",
       "      <td>high</td>\n",
       "    </tr>\n",
       "    <tr>\n",
       "      <th>2</th>\n",
       "      <td>1</td>\n",
       "      <td>0</td>\n",
       "      <td>1</td>\n",
       "      <td>0</td>\n",
       "      <td>0</td>\n",
       "      <td>3</td>\n",
       "      <td>3.0</td>\n",
       "      <td>0.0</td>\n",
       "      <td>2</td>\n",
       "      <td>slightly elevated</td>\n",
       "    </tr>\n",
       "    <tr>\n",
       "      <th>3</th>\n",
       "      <td>1</td>\n",
       "      <td>0</td>\n",
       "      <td>1</td>\n",
       "      <td>0</td>\n",
       "      <td>0</td>\n",
       "      <td>3</td>\n",
       "      <td>4.0</td>\n",
       "      <td>0.0</td>\n",
       "      <td>2</td>\n",
       "      <td>slightly elevated</td>\n",
       "    </tr>\n",
       "    <tr>\n",
       "      <th>4</th>\n",
       "      <td>1</td>\n",
       "      <td>0</td>\n",
       "      <td>0</td>\n",
       "      <td>2</td>\n",
       "      <td>5</td>\n",
       "      <td>3</td>\n",
       "      <td>3.0</td>\n",
       "      <td>0.0</td>\n",
       "      <td>2</td>\n",
       "      <td>high</td>\n",
       "    </tr>\n",
       "  </tbody>\n",
       "</table>\n",
       "</div>"
      ],
      "text/plain": [
       "   BmiRiskPoints  IsPhysicallyActive  EatsVegetablesEveryDay  \\\n",
       "0              0                   0                       1   \n",
       "1              3                   0                       0   \n",
       "2              1                   0                       1   \n",
       "3              1                   0                       1   \n",
       "4              1                   0                       0   \n",
       "\n",
       "   TakingHighBloodPressureMedication  HasHighBloodGlucose  \\\n",
       "0                                  2                    5   \n",
       "1                                  2                    5   \n",
       "2                                  0                    0   \n",
       "3                                  0                    0   \n",
       "4                                  2                    5   \n",
       "\n",
       "   FamilyWithDiabetesRiskPoints  WaistCircumferenceMenRiskPoints  \\\n",
       "0                             3                              0.0   \n",
       "1                             5                              0.0   \n",
       "2                             3                              3.0   \n",
       "3                             3                              4.0   \n",
       "4                             3                              3.0   \n",
       "\n",
       "   WaistCircumferenceWomenRiskPoints  AgeRiskPoints       RiskCategory  \n",
       "0                                0.0              2           moderate  \n",
       "1                                4.0              0               high  \n",
       "2                                0.0              2  slightly elevated  \n",
       "3                                0.0              2  slightly elevated  \n",
       "4                                0.0              2               high  "
      ]
     },
     "execution_count": 473,
     "metadata": {},
     "output_type": "execute_result"
    }
   ],
   "source": [
    "data.head()"
   ]
  },
  {
   "cell_type": "code",
   "execution_count": 439,
   "id": "c2197e5a-6ca8-4ff5-84ce-d9157df7f3b5",
   "metadata": {},
   "outputs": [],
   "source": [
    "data.to_csv('datasets/diabetes_risk.csv', index=False)"
   ]
  },
  {
   "cell_type": "markdown",
   "id": "f10c5662-a1e5-4a09-892e-2ee8236ba924",
   "metadata": {},
   "source": [
    "# Model Training"
   ]
  },
  {
   "cell_type": "markdown",
   "id": "6da7de06-fcfc-4a61-a5a5-d8ef27c55c34",
   "metadata": {},
   "source": [
    "### 2.1 Feature and Target Selection"
   ]
  },
  {
   "cell_type": "code",
   "execution_count": null,
   "id": "409c7aad-8717-4d0a-b71c-735daff3c9a6",
   "metadata": {},
   "outputs": [],
   "source": [
    "X = data.drop('RiskCategory', axis=1)\n",
    "y = data['RiskCategory']"
   ]
  },
  {
   "cell_type": "markdown",
   "id": "83ac8f7e-809c-45c7-885c-332df12582aa",
   "metadata": {},
   "source": [
    "### 2.2 Train Test Splitting"
   ]
  },
  {
   "cell_type": "code",
   "execution_count": null,
   "id": "7cb09eb3-657b-4220-94d0-f766235c689e",
   "metadata": {},
   "outputs": [],
   "source": [
    "from sklearn.model_selection import train_test_split\n",
    "\n",
    "X_train, X_test, y_train, y_test = train_test_split(X, y, test_size=0.2, random_state=42, stratify=y)"
   ]
  },
  {
   "cell_type": "markdown",
   "id": "eef1add8-b8a0-46ba-9875-f8d4e175ab97",
   "metadata": {},
   "source": [
    "### 2.3 Normalizing Features"
   ]
  },
  {
   "cell_type": "code",
   "execution_count": null,
   "id": "7a75d7e7-dfb4-4fde-a0c2-45c066d61171",
   "metadata": {},
   "outputs": [],
   "source": [
    "from sklearn.preprocessing import StandardScaler\n",
    "\n",
    "scaler = StandardScaler()\n",
    "\n",
    "X_train_scaled = scaler.fit_transform(X_train)\n",
    "X_test_scaled = scaler.transform(X_test)"
   ]
  },
  {
   "cell_type": "markdown",
   "id": "77e42b08-c84c-4e86-8e76-f5e9460479cb",
   "metadata": {},
   "source": [
    "### 2.4 Logistic Regression Building and Training"
   ]
  },
  {
   "cell_type": "code",
   "execution_count": null,
   "id": "df5c82d0-1907-449a-869d-70e6e91417b0",
   "metadata": {},
   "outputs": [],
   "source": [
    "from sklearn.linear_model import LogisticRegression\n",
    "\n",
    "lr_model = LogisticRegression(\n",
    "    multi_class='multinomial', \n",
    "    solver='lbfgs',\n",
    "    penalty='l2',\n",
    "    random_state=42,\n",
    ")\n",
    "\n",
    "lr_model.fit(X_train_scaled, y_train)"
   ]
  },
  {
   "cell_type": "markdown",
   "id": "1f1504b8-ebb7-4e24-9e8c-8a322c979e31",
   "metadata": {},
   "source": [
    "### 2.5 Decision Tree Building and Training"
   ]
  },
  {
   "cell_type": "code",
   "execution_count": null,
   "id": "cd3b63b5-912f-4785-a5eb-92b1dcd36284",
   "metadata": {},
   "outputs": [],
   "source": [
    "from sklearn.tree import DecisionTreeClassifier\n",
    "\n",
    "dt_model = DecisionTreeClassifier(\n",
    "    criterion='gini',\n",
    "    max_depth=7,\n",
    "    min_samples_leaf=1,\n",
    "    random_state=42\n",
    ")\n",
    "\n",
    "dt_model.fit(X_train_scaled, y_train)"
   ]
  },
  {
   "cell_type": "markdown",
   "id": "f2f166c4-6eda-403c-8f2f-57094cd486fa",
   "metadata": {},
   "source": [
    "### 2.6 Random Forest Building and Training"
   ]
  },
  {
   "cell_type": "code",
   "execution_count": null,
   "id": "b8a555fb-0dd7-4835-8230-75d6e828723a",
   "metadata": {},
   "outputs": [],
   "source": [
    "from sklearn.ensemble import RandomForestClassifier\n",
    "\n",
    "rf_model = RandomForestClassifier(\n",
    "    criterion='gini',\n",
    "    bootstrap=True,\n",
    "    max_depth=30,\n",
    "    random_state=42\n",
    ")\n",
    "\n",
    "rf_model.fit(X_train_scaled, y_train)"
   ]
  },
  {
   "cell_type": "code",
   "execution_count": null,
   "id": "7d6677e2-53fb-4a67-82d9-a437a0466fca",
   "metadata": {},
   "outputs": [],
   "source": []
  }
 ],
 "metadata": {
  "kernelspec": {
   "display_name": "Python [conda env:base] *",
   "language": "python",
   "name": "conda-base-py"
  },
  "language_info": {
   "codemirror_mode": {
    "name": "ipython",
    "version": 3
   },
   "file_extension": ".py",
   "mimetype": "text/x-python",
   "name": "python",
   "nbconvert_exporter": "python",
   "pygments_lexer": "ipython3",
   "version": "3.12.7"
  }
 },
 "nbformat": 4,
 "nbformat_minor": 5
}
